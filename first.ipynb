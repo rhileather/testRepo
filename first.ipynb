{
 "cells": [
  {
   "cell_type": "markdown",
   "id": "a3c76e91",
   "metadata": {},
   "source": [
    "## 2025-09-18"
   ]
  },
  {
   "cell_type": "markdown",
   "id": "446fbf3c",
   "metadata": {},
   "source": [
    "### 안녕 나의 첫 코딩"
   ]
  },
  {
   "cell_type": "code",
   "execution_count": 3,
   "id": "b44555fb",
   "metadata": {},
   "outputs": [
    {
     "name": "stdout",
     "output_type": "stream",
     "text": [
      "왜 Hello World! 인가? Good Bye World!\n"
     ]
    }
   ],
   "source": [
    "print(\"왜 Hello World! 인가? Good Bye World!\")"
   ]
  },
  {
   "cell_type": "code",
   "execution_count": 5,
   "id": "d062ea73",
   "metadata": {},
   "outputs": [
    {
     "name": "stdout",
     "output_type": "stream",
     "text": [
      "Hello World!\n"
     ]
    }
   ],
   "source": [
    "print(\"Hello World!\")"
   ]
  },
  {
   "cell_type": "code",
   "execution_count": 6,
   "id": "7add77eb",
   "metadata": {},
   "outputs": [
    {
     "name": "stdout",
     "output_type": "stream",
     "text": [
      "잘가라\n"
     ]
    }
   ],
   "source": [
    "print(\"잘가라\")"
   ]
  }
 ],
 "metadata": {
  "kernelspec": {
   "display_name": "Python 3",
   "language": "python",
   "name": "python3"
  },
  "language_info": {
   "codemirror_mode": {
    "name": "ipython",
    "version": 3
   },
   "file_extension": ".py",
   "mimetype": "text/x-python",
   "name": "python",
   "nbconvert_exporter": "python",
   "pygments_lexer": "ipython3",
   "version": "3.12.1"
  }
 },
 "nbformat": 4,
 "nbformat_minor": 5
}
